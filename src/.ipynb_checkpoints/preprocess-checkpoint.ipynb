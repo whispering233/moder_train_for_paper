{
 "cells": [
  {
   "cell_type": "code",
   "execution_count": 1,
   "metadata": {
    "ExecuteTime": {
     "end_time": "2022-07-14T00:07:59.308831Z",
     "start_time": "2022-07-14T00:07:58.103841Z"
    }
   },
   "outputs": [],
   "source": [
    "import numpy as np\n",
    "import pandas as pd\n",
    "import os\n",
    "import torch"
   ]
  },
  {
   "cell_type": "code",
   "execution_count": 4,
   "metadata": {
    "ExecuteTime": {
     "end_time": "2022-07-14T00:08:44.550140Z",
     "start_time": "2022-07-14T00:08:43.030180Z"
    },
    "pycharm": {
     "name": "#%%\n"
    }
   },
   "outputs": [
    {
     "name": "stdout",
     "output_type": "stream",
     "text": [
      "The autoreload extension is already loaded. To reload it, use:\n",
      "  %reload_ext autoreload\n"
     ]
    }
   ],
   "source": [
    "# 引入自己的工具方法\n",
    "%load_ext autoreload\n",
    "%autoreload 2\n",
    "\n",
    "import sys\n",
    "sys.path.append(\"./utils/\")\n",
    "from utils import preprocess as pre\n",
    "from utils import utils\n",
    "\n",
    "sys.path.append(\"./config.py\")\n",
    "import config"
   ]
  },
  {
   "cell_type": "code",
   "execution_count": 20,
   "metadata": {
    "ExecuteTime": {
     "end_time": "2022-07-14T00:28:05.815225Z",
     "start_time": "2022-07-14T00:28:01.163466Z"
    }
   },
   "outputs": [],
   "source": [
    "tokenizer, mask_id = utils.load_tokenizer_prompt(check_point=config.check_point)"
   ]
  },
  {
   "cell_type": "code",
   "execution_count": 40,
   "metadata": {
    "ExecuteTime": {
     "end_time": "2022-07-14T00:52:31.533419Z",
     "start_time": "2022-07-14T00:52:31.415391Z"
    }
   },
   "outputs": [
    {
     "data": {
      "text/plain": [
       "['今', '天', '天', '气', '很', '好']"
      ]
     },
     "execution_count": 40,
     "metadata": {},
     "output_type": "execute_result"
    }
   ],
   "source": [
    "a = \"今天天气很好\"\n",
    "a_ = tokenizer.tokenize(a)\n",
    "a_"
   ]
  },
  {
   "cell_type": "code",
   "execution_count": 30,
   "metadata": {
    "ExecuteTime": {
     "end_time": "2022-07-14T00:37:25.461569Z",
     "start_time": "2022-07-14T00:37:25.345439Z"
    }
   },
   "outputs": [
    {
     "data": {
      "text/plain": [
       "'今 天 天 气 很 好'"
      ]
     },
     "execution_count": 30,
     "metadata": {},
     "output_type": "execute_result"
    }
   ],
   "source": [
    "a_ = \" \".join(a_)\n",
    "a_"
   ]
  },
  {
   "cell_type": "code",
   "execution_count": 32,
   "metadata": {
    "ExecuteTime": {
     "end_time": "2022-07-14T00:37:42.150185Z",
     "start_time": "2022-07-14T00:37:42.031158Z"
    }
   },
   "outputs": [
    {
     "data": {
      "text/plain": [
       "('今 天 天 气 很 好', {})"
      ]
     },
     "execution_count": 32,
     "metadata": {},
     "output_type": "execute_result"
    }
   ],
   "source": [
    "tokenizer.prepare_for_tokenization(a_)"
   ]
  },
  {
   "cell_type": "code",
   "execution_count": 41,
   "metadata": {
    "ExecuteTime": {
     "end_time": "2022-07-14T00:52:34.917945Z",
     "start_time": "2022-07-14T00:52:34.801952Z"
    }
   },
   "outputs": [
    {
     "data": {
      "text/plain": [
       "['today', 'is', 'a', 'good', 'day']"
      ]
     },
     "execution_count": 41,
     "metadata": {},
     "output_type": "execute_result"
    }
   ],
   "source": [
    "b = \"today is a good day\"\n",
    "b_ = tokenizer.tokenize(b)\n",
    "b_"
   ]
  },
  {
   "cell_type": "code",
   "execution_count": 43,
   "metadata": {
    "ExecuteTime": {
     "end_time": "2022-07-14T00:54:48.359031Z",
     "start_time": "2022-07-14T00:54:48.237003Z"
    }
   },
   "outputs": [
    {
     "data": {
      "text/plain": [
       "['今', '天', '天', '气', '很', '好', 'good', 'day']"
      ]
     },
     "execution_count": 43,
     "metadata": {},
     "output_type": "execute_result"
    }
   ],
   "source": [
    "b_[:0] + a_ + b_[3:]"
   ]
  },
  {
   "cell_type": "code",
   "execution_count": 26,
   "metadata": {
    "ExecuteTime": {
     "end_time": "2022-07-14T00:36:38.845265Z",
     "start_time": "2022-07-14T00:36:38.727236Z"
    }
   },
   "outputs": [
    {
     "data": {
      "text/plain": [
       "'today is a good day'"
      ]
     },
     "execution_count": 26,
     "metadata": {},
     "output_type": "execute_result"
    }
   ],
   "source": [
    "b_ = \" \".join(b_)\n",
    "b_"
   ]
  },
  {
   "cell_type": "code",
   "execution_count": 27,
   "metadata": {
    "ExecuteTime": {
     "end_time": "2022-07-14T00:36:41.921773Z",
     "start_time": "2022-07-14T00:36:41.804748Z"
    }
   },
   "outputs": [
    {
     "data": {
      "text/plain": [
       "('today is a good day', {})"
      ]
     },
     "execution_count": 27,
     "metadata": {},
     "output_type": "execute_result"
    }
   ],
   "source": [
    "tokenizer.prepare_for_tokenization(b_, is_split_into_words=True)"
   ]
  },
  {
   "cell_type": "code",
   "execution_count": 44,
   "metadata": {
    "ExecuteTime": {
     "end_time": "2022-07-14T01:00:17.395952Z",
     "start_time": "2022-07-14T01:00:17.273925Z"
    }
   },
   "outputs": [
    {
     "data": {
      "text/plain": [
       "['[X]', '描', '述', '了', '[MASK]']"
      ]
     },
     "execution_count": 44,
     "metadata": {},
     "output_type": "execute_result"
    }
   ],
   "source": [
    "c = \"[X]描述了[MASK]\"\n",
    "c_ = tokenizer.tokenize(c)\n",
    "c_"
   ]
  },
  {
   "cell_type": "code",
   "execution_count": 45,
   "metadata": {
    "ExecuteTime": {
     "end_time": "2022-07-14T01:01:43.922397Z",
     "start_time": "2022-07-14T01:01:43.806370Z"
    }
   },
   "outputs": [
    {
     "data": {
      "text/plain": [
       "['[X]', '[X]', '[X]', '描', '述', '了', '[MASK]']"
      ]
     },
     "execution_count": 45,
     "metadata": {},
     "output_type": "execute_result"
    }
   ],
   "source": [
    "pos = c_.index(\"[X]\")\n",
    "c_[:pos] + [\"[X]\"] * 3 + c_[pos+1:]"
   ]
  },
  {
   "cell_type": "code",
   "execution_count": 11,
   "metadata": {
    "ExecuteTime": {
     "end_time": "2022-07-14T00:22:30.449005Z",
     "start_time": "2022-07-14T00:22:30.332980Z"
    }
   },
   "outputs": [
    {
     "data": {
      "text/plain": [
       "'今天天气很好'"
      ]
     },
     "execution_count": 11,
     "metadata": {},
     "output_type": "execute_result"
    }
   ],
   "source": [
    "a[:11]"
   ]
  },
  {
   "cell_type": "code",
   "execution_count": 15,
   "metadata": {
    "ExecuteTime": {
     "end_time": "2022-07-14T00:24:30.566745Z",
     "start_time": "2022-07-14T00:24:30.444717Z"
    }
   },
   "outputs": [
    {
     "data": {
      "text/plain": [
       "'today i'"
      ]
     },
     "execution_count": 15,
     "metadata": {},
     "output_type": "execute_result"
    }
   ],
   "source": [
    "b[:7]"
   ]
  },
  {
   "cell_type": "code",
   "execution_count": 35,
   "metadata": {
    "ExecuteTime": {
     "end_time": "2022-07-14T00:46:48.551558Z",
     "start_time": "2022-07-14T00:46:48.433532Z"
    }
   },
   "outputs": [
    {
     "data": {
      "text/plain": [
       "[11262, 8310, 143, 9005, 8542]"
      ]
     },
     "execution_count": 35,
     "metadata": {},
     "output_type": "execute_result"
    }
   ],
   "source": [
    "b_ids = tokenizer.convert_tokens_to_ids(b_)\n",
    "b_ids"
   ]
  },
  {
   "cell_type": "code",
   "execution_count": 37,
   "metadata": {
    "ExecuteTime": {
     "end_time": "2022-07-14T00:47:49.420424Z",
     "start_time": "2022-07-14T00:47:49.296396Z"
    }
   },
   "outputs": [
    {
     "data": {
      "text/plain": [
       "{'input_ids': [101, 11262, 8310, 143, 9005, 8542, 102], 'token_type_ids': [0, 0, 0, 0, 0, 0, 0], 'attention_mask': [1, 1, 1, 1, 1, 1, 1]}"
      ]
     },
     "execution_count": 37,
     "metadata": {},
     "output_type": "execute_result"
    }
   ],
   "source": [
    "tokenizer(b_, is_split_into_words=True)"
   ]
  },
  {
   "cell_type": "code",
   "execution_count": null,
   "metadata": {},
   "outputs": [],
   "source": []
  }
 ],
 "metadata": {
  "kernelspec": {
   "display_name": "Python 3 (ipykernel)",
   "language": "python",
   "name": "python3"
  },
  "language_info": {
   "codemirror_mode": {
    "name": "ipython",
    "version": 3
   },
   "file_extension": ".py",
   "mimetype": "text/x-python",
   "name": "python",
   "nbconvert_exporter": "python",
   "pygments_lexer": "ipython3",
   "version": "3.10.4"
  },
  "toc": {
   "base_numbering": 1,
   "nav_menu": {},
   "number_sections": true,
   "sideBar": true,
   "skip_h1_title": false,
   "title_cell": "Table of Contents",
   "title_sidebar": "Contents",
   "toc_cell": false,
   "toc_position": {
    "height": "calc(100% - 180px)",
    "left": "10px",
    "top": "150px",
    "width": "250.099px"
   },
   "toc_section_display": true,
   "toc_window_display": true
  },
  "varInspector": {
   "cols": {
    "lenName": 16,
    "lenType": 16,
    "lenVar": 40
   },
   "kernels_config": {
    "python": {
     "delete_cmd_postfix": "",
     "delete_cmd_prefix": "del ",
     "library": "var_list.py",
     "varRefreshCmd": "print(var_dic_list())"
    },
    "r": {
     "delete_cmd_postfix": ") ",
     "delete_cmd_prefix": "rm(",
     "library": "var_list.r",
     "varRefreshCmd": "cat(var_dic_list()) "
    }
   },
   "types_to_exclude": [
    "module",
    "function",
    "builtin_function_or_method",
    "instance",
    "_Feature"
   ],
   "window_display": false
  }
 },
 "nbformat": 4,
 "nbformat_minor": 1
}
